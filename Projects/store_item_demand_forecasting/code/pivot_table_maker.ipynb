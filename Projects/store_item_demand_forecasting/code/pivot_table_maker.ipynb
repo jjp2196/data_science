{
 "cells": [
  {
   "cell_type": "code",
   "execution_count": 1,
   "metadata": {},
   "outputs": [],
   "source": [
    "# Imports\n",
    "import pandas as pd\n",
    "import numpy as np"
   ]
  },
  {
   "cell_type": "code",
   "execution_count": 4,
   "metadata": {},
   "outputs": [
    {
     "name": "stdout",
     "output_type": "stream",
     "text": [
      "Missing values in the dataset:\n",
      " date     0\n",
      "store    0\n",
      "item     0\n",
      "sales    0\n",
      "dtype: int64\n",
      "Start Processing ...\n",
      "Processing is completed.\n",
      "500 lines in your final report\n",
      "Start saving report.\n",
      "Your report is saved.\n"
     ]
    }
   ],
   "source": [
    "\n",
    "# Import DataFrame\n",
    "df = pd.read_csv('/Users/jamespecore/Documents/Github/data_science/Projects/store_item_demand_forecasting/data/train.csv')\n",
    "\n",
    "# Check for missing values\n",
    "missing_values = df.isnull().sum()\n",
    "print(\"Missing values in the dataset:\\n\", missing_values)\n",
    "\n",
    "# Drop rows with missing values (if necessary)\n",
    "# df = df.dropna()\n",
    "\n",
    "# Format Date\n",
    "print(\"Start Processing ...\")\n",
    "df['date'] = pd.to_datetime(df['date'])\n",
    "df['month'] = df['date'].dt.month\n",
    "df['year'] = df['date'].dt.year\n",
    "df['month-year'] = df['date'].dt.strftime('%m-%Y')  # Simplified date formatting\n",
    "\n",
    "# Create a pivot table for easier manipulation\n",
    "pivot_table = pd.pivot_table(df, values='sales', index=['store', 'item'],\n",
    "                             columns=['month-year'], aggfunc='sum', fill_value=0)\n",
    "\n",
    "# Sort by store and item\n",
    "pivot_table.sort_index(inplace=True)\n",
    "\n",
    "print(\"Processing is completed.\")\n",
    "print(\"{:,} lines in your final report\".format(len(pivot_table)))\n",
    "\n",
    "# Define the order of columns in the final report\n",
    "# You may want to customize this based on specific requirements\n",
    "my_cols = [f\"{month:02d}-{year}\" for year in range(2013, 2018) for month in range(1, 13)]\n",
    "\n",
    "# Reorder columns based on defined order\n",
    "pivot_table = pivot_table[my_cols]\n",
    "\n",
    "# Final report\n",
    "print(\"Start saving report.\")\n",
    "pivot_table.to_excel('sales_report.xlsx')\n",
    "print(\"Your report is saved.\")"
   ]
  },
  {
   "cell_type": "code",
   "execution_count": null,
   "metadata": {},
   "outputs": [],
   "source": []
  },
  {
   "cell_type": "code",
   "execution_count": null,
   "metadata": {},
   "outputs": [],
   "source": []
  },
  {
   "cell_type": "code",
   "execution_count": null,
   "metadata": {},
   "outputs": [],
   "source": []
  },
  {
   "cell_type": "code",
   "execution_count": null,
   "metadata": {},
   "outputs": [],
   "source": []
  }
 ],
 "metadata": {
  "kernelspec": {
   "display_name": "base",
   "language": "python",
   "name": "python3"
  },
  "language_info": {
   "codemirror_mode": {
    "name": "ipython",
    "version": 3
   },
   "file_extension": ".py",
   "mimetype": "text/x-python",
   "name": "python",
   "nbconvert_exporter": "python",
   "pygments_lexer": "ipython3",
   "version": "3.11.7"
  }
 },
 "nbformat": 4,
 "nbformat_minor": 2
}
