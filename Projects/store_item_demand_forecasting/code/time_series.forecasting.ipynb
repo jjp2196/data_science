{
 "cells": [
  {
   "cell_type": "code",
   "execution_count": 13,
   "metadata": {
    "dotnet_interactive": {
     "language": "csharp"
    },
    "polyglot_notebook": {
     "kernelName": "csharp"
    }
   },
   "outputs": [],
   "source": [
    "# Import Information\n",
    "import numpy as np\n",
    "import pandas as pd\n",
    "import matplotlib.pyplot as plt\n",
    "import keras\n",
    "from keras import optimizers\n",
    "from keras.utils import plot_model\n",
    "from keras.models import Sequential, Model\n",
    "from keras.layers import Dense, LSTM, RepeatVector, TimeDistributed, Flatten\n",
    "from sklearn.metrics import mean_squared_error\n",
    "from sklearn.discriminant_analysis import StandardScaler\n",
    "from sklearn.model_selection import train_test_split\n",
    "import matplotlib.pyplot as plt"
   ]
  },
  {
   "cell_type": "code",
   "execution_count": 14,
   "metadata": {},
   "outputs": [],
   "source": [
    "# Load the dataset\n",
    "train = pd.read_csv('/Users/jamespecore/Documents/Github/data_science/Projects/store_item_demand_forecasting/data/train.csv')\n",
    "test = pd.read_csv('/Users/jamespecore/Documents/Github/data_science/Projects/store_item_demand_forecasting/data/test.csv')"
   ]
  },
  {
   "cell_type": "code",
   "execution_count": 15,
   "metadata": {},
   "outputs": [],
   "source": [
    "def preprocess_data(data):\n",
    "    # Convert the 'date' column to datetime format\n",
    "    data['date'] = pd.to_datetime(data['date'])\n",
    "    return data\n",
    "\n",
    "# Apply preprocessing to train and test data\n",
    "train = preprocess_data(train)\n",
    "test = preprocess_data(test)"
   ]
  },
  {
   "cell_type": "code",
   "execution_count": 16,
   "metadata": {},
   "outputs": [
    {
     "name": "stdout",
     "output_type": "stream",
     "text": [
      "             date  store  item  sales  year  month  day  day_of_week\n",
      "0      2013-01-01      1     1     13  2013      1    1            1\n",
      "1      2013-01-02      1     1     11  2013      1    2            2\n",
      "2      2013-01-03      1     1     14  2013      1    3            3\n",
      "3      2013-01-04      1     1     13  2013      1    4            4\n",
      "4      2013-01-05      1     1     10  2013      1    5            5\n",
      "...           ...    ...   ...    ...   ...    ...  ...          ...\n",
      "912995 2017-12-27     10    50     63  2017     12   27            2\n",
      "912996 2017-12-28     10    50     59  2017     12   28            3\n",
      "912997 2017-12-29     10    50     74  2017     12   29            4\n",
      "912998 2017-12-30     10    50     62  2017     12   30            5\n",
      "912999 2017-12-31     10    50     82  2017     12   31            6\n",
      "\n",
      "[913000 rows x 8 columns]\n"
     ]
    }
   ],
   "source": [
    "def format_datetime(data):\n",
    "    # Extract additional date-related features\n",
    "    data['year'] = data['date'].dt.year\n",
    "    data['month'] = data['date'].dt.month\n",
    "    data['day'] = data['date'].dt.day\n",
    "    data['day_of_week'] = data['date'].dt.dayofweek\n",
    "    return data\n",
    "\n",
    "train = format_datetime(train)\n",
    "test = format_datetime(test)\n",
    "\n",
    "print(train)"
   ]
  },
  {
   "cell_type": "code",
   "execution_count": 17,
   "metadata": {},
   "outputs": [
    {
     "data": {
      "text/html": [
       "<div>\n",
       "<style scoped>\n",
       "    .dataframe tbody tr th:only-of-type {\n",
       "        vertical-align: middle;\n",
       "    }\n",
       "\n",
       "    .dataframe tbody tr th {\n",
       "        vertical-align: top;\n",
       "    }\n",
       "\n",
       "    .dataframe thead th {\n",
       "        text-align: right;\n",
       "    }\n",
       "</style>\n",
       "<table border=\"1\" class=\"dataframe\">\n",
       "  <thead>\n",
       "    <tr style=\"text-align: right;\">\n",
       "      <th></th>\n",
       "      <th>date</th>\n",
       "      <th>store</th>\n",
       "      <th>item</th>\n",
       "      <th>sales</th>\n",
       "      <th>year</th>\n",
       "      <th>month</th>\n",
       "      <th>day</th>\n",
       "      <th>day_of_week</th>\n",
       "    </tr>\n",
       "  </thead>\n",
       "  <tbody>\n",
       "    <tr>\n",
       "      <th>count</th>\n",
       "      <td>913000</td>\n",
       "      <td>913000.000000</td>\n",
       "      <td>913000.000000</td>\n",
       "      <td>913000.000000</td>\n",
       "      <td>913000.000000</td>\n",
       "      <td>913000.000000</td>\n",
       "      <td>913000.000000</td>\n",
       "      <td>913000.000000</td>\n",
       "    </tr>\n",
       "    <tr>\n",
       "      <th>mean</th>\n",
       "      <td>2015-07-02 11:59:59.999999744</td>\n",
       "      <td>5.500000</td>\n",
       "      <td>25.500000</td>\n",
       "      <td>52.250287</td>\n",
       "      <td>2015.000548</td>\n",
       "      <td>6.523549</td>\n",
       "      <td>15.727820</td>\n",
       "      <td>3.001643</td>\n",
       "    </tr>\n",
       "    <tr>\n",
       "      <th>min</th>\n",
       "      <td>2013-01-01 00:00:00</td>\n",
       "      <td>1.000000</td>\n",
       "      <td>1.000000</td>\n",
       "      <td>0.000000</td>\n",
       "      <td>2013.000000</td>\n",
       "      <td>1.000000</td>\n",
       "      <td>1.000000</td>\n",
       "      <td>0.000000</td>\n",
       "    </tr>\n",
       "    <tr>\n",
       "      <th>25%</th>\n",
       "      <td>2014-04-02 00:00:00</td>\n",
       "      <td>3.000000</td>\n",
       "      <td>13.000000</td>\n",
       "      <td>30.000000</td>\n",
       "      <td>2014.000000</td>\n",
       "      <td>4.000000</td>\n",
       "      <td>8.000000</td>\n",
       "      <td>1.000000</td>\n",
       "    </tr>\n",
       "    <tr>\n",
       "      <th>50%</th>\n",
       "      <td>2015-07-02 12:00:00</td>\n",
       "      <td>5.500000</td>\n",
       "      <td>25.500000</td>\n",
       "      <td>47.000000</td>\n",
       "      <td>2015.000000</td>\n",
       "      <td>7.000000</td>\n",
       "      <td>16.000000</td>\n",
       "      <td>3.000000</td>\n",
       "    </tr>\n",
       "    <tr>\n",
       "      <th>75%</th>\n",
       "      <td>2016-10-01 00:00:00</td>\n",
       "      <td>8.000000</td>\n",
       "      <td>38.000000</td>\n",
       "      <td>70.000000</td>\n",
       "      <td>2016.000000</td>\n",
       "      <td>10.000000</td>\n",
       "      <td>23.000000</td>\n",
       "      <td>5.000000</td>\n",
       "    </tr>\n",
       "    <tr>\n",
       "      <th>max</th>\n",
       "      <td>2017-12-31 00:00:00</td>\n",
       "      <td>10.000000</td>\n",
       "      <td>50.000000</td>\n",
       "      <td>231.000000</td>\n",
       "      <td>2017.000000</td>\n",
       "      <td>12.000000</td>\n",
       "      <td>31.000000</td>\n",
       "      <td>6.000000</td>\n",
       "    </tr>\n",
       "    <tr>\n",
       "      <th>std</th>\n",
       "      <td>NaN</td>\n",
       "      <td>2.872283</td>\n",
       "      <td>14.430878</td>\n",
       "      <td>28.801144</td>\n",
       "      <td>1.414021</td>\n",
       "      <td>3.448535</td>\n",
       "      <td>8.799329</td>\n",
       "      <td>1.999316</td>\n",
       "    </tr>\n",
       "  </tbody>\n",
       "</table>\n",
       "</div>"
      ],
      "text/plain": [
       "                                date          store           item  \\\n",
       "count                         913000  913000.000000  913000.000000   \n",
       "mean   2015-07-02 11:59:59.999999744       5.500000      25.500000   \n",
       "min              2013-01-01 00:00:00       1.000000       1.000000   \n",
       "25%              2014-04-02 00:00:00       3.000000      13.000000   \n",
       "50%              2015-07-02 12:00:00       5.500000      25.500000   \n",
       "75%              2016-10-01 00:00:00       8.000000      38.000000   \n",
       "max              2017-12-31 00:00:00      10.000000      50.000000   \n",
       "std                              NaN       2.872283      14.430878   \n",
       "\n",
       "               sales           year          month            day  \\\n",
       "count  913000.000000  913000.000000  913000.000000  913000.000000   \n",
       "mean       52.250287    2015.000548       6.523549      15.727820   \n",
       "min         0.000000    2013.000000       1.000000       1.000000   \n",
       "25%        30.000000    2014.000000       4.000000       8.000000   \n",
       "50%        47.000000    2015.000000       7.000000      16.000000   \n",
       "75%        70.000000    2016.000000      10.000000      23.000000   \n",
       "max       231.000000    2017.000000      12.000000      31.000000   \n",
       "std        28.801144       1.414021       3.448535       8.799329   \n",
       "\n",
       "         day_of_week  \n",
       "count  913000.000000  \n",
       "mean        3.001643  \n",
       "min         0.000000  \n",
       "25%         1.000000  \n",
       "50%         3.000000  \n",
       "75%         5.000000  \n",
       "max         6.000000  \n",
       "std         1.999316  "
      ]
     },
     "execution_count": 17,
     "metadata": {},
     "output_type": "execute_result"
    }
   ],
   "source": [
    "# Exploratory Data Analysis\n",
    "train.describe()"
   ]
  },
  {
   "cell_type": "code",
   "execution_count": 18,
   "metadata": {},
   "outputs": [],
   "source": [
    "# Min and Max Date Retrieval Functions\n",
    "def min_date(data):\n",
    "    return data['date'].min().date()\n",
    "\n",
    "def max_date(data):\n",
    "    return data['date'].max().date()"
   ]
  },
  {
   "cell_type": "code",
   "execution_count": 19,
   "metadata": {},
   "outputs": [
    {
     "name": "stdout",
     "output_type": "stream",
     "text": [
      "Min date from train set: 2013-01-01\n",
      "Max date from train set: 2017-12-31\n"
     ]
    }
   ],
   "source": [
    "# MiniMax Date from Train Set\n",
    "print('Min date from train set:', min_date(train))\n",
    "print('Max date from train set:', max_date(train))"
   ]
  },
  {
   "cell_type": "code",
   "execution_count": 20,
   "metadata": {},
   "outputs": [
    {
     "name": "stdout",
     "output_type": "stream",
     "text": [
      "Min date from test set: 2018-01-01\n",
      "Max date from test set: 2018-03-31\n"
     ]
    }
   ],
   "source": [
    "# MiniMax Date from Test Set\n",
    "print('Min date from test set:', min_date(test))\n",
    "print('Max date from test set:', max_date(test))"
   ]
  },
  {
   "cell_type": "code",
   "execution_count": 21,
   "metadata": {},
   "outputs": [
    {
     "name": "stdout",
     "output_type": "stream",
     "text": [
      "Last date in the train set: 2017-12-31\n",
      "Last date in the test set: 2018-03-31\n",
      "Forecast lag size (days between train and test set): 90\n"
     ]
    }
   ],
   "source": [
    "# Calculate the forecast lag size, which represents the number of days between the last date in the train set\n",
    "# and the last date in the test set\n",
    "lag_size = (test['date'].max().date() - train['date'].max().date()).days\n",
    "\n",
    "# Print the results\n",
    "print('Last date in the train set: %s' % train['date'].max().date())\n",
    "print('Last date in the test set: %s' % test['date'].max().date())\n",
    "print('Forecast lag size (days between train and test set):', lag_size)"
   ]
  },
  {
   "cell_type": "code",
   "execution_count": 22,
   "metadata": {},
   "outputs": [],
   "source": [
    "# Aggregate daily sales\n",
    "daily_sales = train.groupby('date')['sales'].sum().reset_index()\n",
    "\n",
    "# Aggregate daily sales per store\n",
    "store_daily_sales = train.groupby(['store', 'date'])['sales'].sum().reset_index()\n",
    "\n",
    "# Aggregate daily sales per item\n",
    "item_daily_sales = train.groupby(['item', 'date'])['sales'].sum().reset_index()"
   ]
  },
  {
   "cell_type": "code",
   "execution_count": 23,
   "metadata": {},
   "outputs": [
    {
     "data": {
      "image/png": "[encoded data removed]",
      "text/plain": [
       "<Figure size 1000x600 with 1 Axes>"
      ]
     },
     "metadata": {},
     "output_type": "display_data"
    }
   ],
   "source": [
    "# Plot daily sales using Matplotlib\n",
    "plt.figure(figsize=(10, 6))\n",
    "plt.plot(daily_sales['date'], daily_sales['sales'], marker='o', linestyle='-', color='b')\n",
    "plt.title('Daily Sales')\n",
    "plt.xlabel('Date')\n",
    "plt.ylabel('Sales')\n",
    "plt.grid(True)\n",
    "plt.show()"
   ]
  },
  {
   "cell_type": "code",
   "execution_count": 35,
   "metadata": {},
   "outputs": [],
   "source": [
    "# Step 1: Rearrange Dataset\n",
    "def rearrange_dataset(data):\n",
    "    # Group by item, store, and date, calculate mean sales\n",
    "    data_grouped = data.sort_values('date').groupby(['item', 'store', 'date'], as_index=False)\n",
    "    data_grouped = data_grouped.agg({'sales': 'mean'})\n",
    "    data_grouped.columns = ['item', 'store', 'date', 'sales']\n",
    "    return data_grouped"
   ]
  },
  {
   "cell_type": "code",
   "execution_count": 36,
   "metadata": {},
   "outputs": [],
   "source": [
    "# Step 2: Transform Data into a Time Series Problem\n",
    "def series_to_supervised(data, window=1, lag=1, dropnan=True):\n",
    "    cols, names = list(), list()\n",
    "    for i in range(window, 0, -1):\n",
    "        cols.append(data.shift(i))\n",
    "        names += [('%s(t-%d)' % (col, i)) for col in data.columns]\n",
    "    cols.append(data)\n",
    "    names += [('%s(t)' % (col)) for col in data.columns]\n",
    "    cols.append(data.shift(-lag))\n",
    "    names += [('%s(t+%d)' % (col, lag)) for col in data.columns]\n",
    "    agg = pd.concat(cols, axis=1)\n",
    "    agg.columns = names\n",
    "    if dropnan:\n",
    "        agg.dropna(inplace=True)\n",
    "    return agg"
   ]
  },
  {
   "cell_type": "code",
   "execution_count": 37,
   "metadata": {},
   "outputs": [],
   "source": [
    "# Step 3: Remove Rows with Different Item or Store Values\n",
    "def filter_inconsistent_data(data):\n",
    "    last_item = 'item(t-%d)' % window\n",
    "    last_store = 'store(t-%d)' % window\n",
    "    data_filtered = data[(data['store(t)'] == data[last_store])]\n",
    "    data_filtered.reset_index(drop=True, inplace=True)\n",
    "    \n",
    "    # Reset indices of the original data DataFrame\n",
    "    data.reset_index(drop=True, inplace=True)\n",
    "    \n",
    "    return data_filtered"
   ]
  },
  {
   "cell_type": "code",
   "execution_count": 38,
   "metadata": {},
   "outputs": [],
   "source": [
    "# Step 4: Remove Unwanted Columns\n",
    "def drop_unwanted_columns(data, window, lag):\n",
    "    columns_to_drop = [('%s(t+%d)' % (col, lag)) for col in ['item', 'store']]\n",
    "    for i in range(window, 0, -1):\n",
    "        columns_to_drop += [('%s(t-%d)' % (col, i)) for col in ['item', 'store']]\n",
    "    data.drop(columns_to_drop, axis=1, inplace=True)\n",
    "    data.drop(['item(t)', 'store(t)'], axis=1, inplace=True)\n",
    "    return data"
   ]
  },
  {
   "cell_type": "code",
   "execution_count": 39,
   "metadata": {},
   "outputs": [],
   "source": [
    "# Step 5: Train/Validation Split\n",
    "def split_train_valid(data, labels_col, test_size=0.4, random_state=0):\n",
    "    labels = data[labels_col]\n",
    "    data = data.drop(labels_col, axis=1)\n",
    "    X_train, X_valid, Y_train, Y_valid = train_test_split(data, labels.values, test_size=test_size, random_state=random_state)\n",
    "    print('Train set shape:', X_train.shape)\n",
    "    print('Validation set shape:', X_valid.shape)\n",
    "    return X_train, X_valid, Y_train, Y_valid\n"
   ]
  },
  {
   "cell_type": "code",
   "execution_count": 40,
   "metadata": {},
   "outputs": [
    {
     "name": "stdout",
     "output_type": "stream",
     "text": [
      "Train set shape: (539046, 30)\n",
      "Validation set shape: (359364, 30)\n"
     ]
    }
   ],
   "source": [
    "# Apply preprocessing steps\n",
    "train_gp = rearrange_dataset(train)\n",
    "window = 29\n",
    "lag = lag_size\n",
    "series = series_to_supervised(train_gp.drop('date', axis=1), window=window, lag=lag)\n",
    "series = filter_inconsistent_data(series)\n",
    "series = drop_unwanted_columns(series, window, lag)\n",
    "X_train, X_valid, Y_train, Y_valid = split_train_valid(series, 'sales(t+%d)' % lag_size)"
   ]
  },
  {
   "cell_type": "code",
   "execution_count": 48,
   "metadata": {},
   "outputs": [
    {
     "name": "stdout",
     "output_type": "stream",
     "text": [
      "X_train shape: (539046, 30)\n",
      "X_valid shape: (359364, 30)\n"
     ]
    }
   ],
   "source": [
    "# Check the shape of the input data\n",
    "print(\"X_train shape:\", X_train.shape)\n",
    "print(\"X_valid shape:\", X_valid.shape)\n",
    "\n",
    "# Reshape input data for LSTM model (add a third dimension for the single channel)\n",
    "X_train_lstm = X_train.values.reshape(X_train.shape[0], X_train.shape[1], 1)\n",
    "X_valid_lstm = X_valid.values.reshape(X_valid.shape[0], X_valid.shape[1], 1)\n"
   ]
  },
  {
   "cell_type": "code",
   "execution_count": 50,
   "metadata": {},
   "outputs": [
    {
     "name": "stdout",
     "output_type": "stream",
     "text": [
      "Epoch 1/10\n",
      "\u001b[1m16846/16846\u001b[0m \u001b[32m━━━━━━━━━━━━━━━━━━━━\u001b[0m\u001b[37m\u001b[0m \u001b[1m103s\u001b[0m 6ms/step - loss: 692.9466 - val_loss: 324.2439\n",
      "Epoch 2/10\n",
      "\u001b[1m16846/16846\u001b[0m \u001b[32m━━━━━━━━━━━━━━━━━━━━\u001b[0m\u001b[37m\u001b[0m \u001b[1m106s\u001b[0m 6ms/step - loss: 360.1615 - val_loss: 310.6847\n",
      "Epoch 3/10\n",
      "\u001b[1m16846/16846\u001b[0m \u001b[32m━━━━━━━━━━━━━━━━━━━━\u001b[0m\u001b[37m\u001b[0m \u001b[1m104s\u001b[0m 6ms/step - loss: 368.1906 - val_loss: 456.4842\n",
      "Epoch 4/10\n",
      "\u001b[1m16838/16846\u001b[0m \u001b[32m━━━━━━━━━━━━━━━━━━━\u001b[0m\u001b[37m━\u001b[0m \u001b[1m0s\u001b[0m 6ms/step - loss: 387.3663"
     ]
    }
   ],
   "source": [
    "# Build LSTM model architecture\n",
    "lstm_model = Sequential([\n",
    "    LSTM(10, activation='relu', input_shape=(X_train_lstm.shape[1], 1)),\n",
    "    Dense(1)\n",
    "])\n",
    "\n",
    "# Compile LSTM model\n",
    "lstm_model.compile(optimizer='adam', loss='mse')\n",
    "\n",
    "# Train LSTM model\n",
    "history = lstm_model.fit(X_train_lstm, Y_train, epochs=10, batch_size=32, validation_data=(X_valid_lstm, Y_valid), verbose=1)"
   ]
  },
  {
   "cell_type": "markdown",
   "metadata": {},
   "source": [
    "## **Conclusion**\n",
    "\n",
    "In this exploration of time series problem-solving approaches, we've delved into various methods and their distinctions. While the focus here wasn't on achieving peak performance, you're encouraged to experiment with different hyperparameters, particularly the window size and network topology, to enhance results. If you do, please share your findings with me.\n",
    "\n",
    "I hope this journey has imparted valuable insights. Your feedback is invaluable, so feel free to share your thoughts. If you enjoyed this content, consider exploring this reference dataset to try this out yourself. "
   ]
  }
 ],
 "metadata": {
  "kernelspec": {
   "display_name": "Python 3",
   "language": "python",
   "name": "python3"
  },
  "language_info": {
   "codemirror_mode": {
    "name": "ipython",
    "version": 3
   },
   "file_extension": ".py",
   "mimetype": "text/x-python",
   "name": "python",
   "nbconvert_exporter": "python",
   "pygments_lexer": "ipython3",
   "version": "3.11.7"
  },
  "polyglot_notebook": {
   "kernelInfo": {
    "defaultKernelName": "csharp",
    "items": [
     {
      "aliases": [],
      "name": "csharp"
     }
    ]
   }
  }
 },
 "nbformat": 4,
 "nbformat_minor": 2
}
